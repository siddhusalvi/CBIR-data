{
  "nbformat": 4,
  "nbformat_minor": 0,
  "metadata": {
    "colab": {
      "name": "Covid Data Visualisation  using Python.ipynb",
      "provenance": [],
      "collapsed_sections": [],
      "mount_file_id": "1XMCRnos-X6OUUEFro4U2MXyxcaO6o5rm",
      "authorship_tag": "ABX9TyND+F7ZGOVO9off3009qXfq",
      "include_colab_link": true
    },
    "kernelspec": {
      "name": "python3",
      "display_name": "Python 3"
    }
  },
  "cells": [
    {
      "cell_type": "markdown",
      "metadata": {
        "id": "view-in-github",
        "colab_type": "text"
      },
      "source": [
        "<a href=\"https://colab.research.google.com/github/siddhusalvi/CBIR-data/blob/master/Covid_Data_Visualisation_using_Python.ipynb\" target=\"_parent\"><img src=\"https://colab.research.google.com/assets/colab-badge.svg\" alt=\"Open In Colab\"/></a>"
      ]
    },
    {
      "cell_type": "code",
      "metadata": {
        "id": "fiYaHc1CcQUz",
        "outputId": "241c9b56-c842-43eb-a4f4-381968272608",
        "colab": {
          "base_uri": "https://localhost:8080/",
          "height": 34
        }
      },
      "source": [
        "from google.colab import drive\n",
        "drive.mount('/content/drive/')"
      ],
      "execution_count": 25,
      "outputs": [
        {
          "output_type": "stream",
          "text": [
            "Drive already mounted at /content/drive/; to attempt to forcibly remount, call drive.mount(\"/content/drive/\", force_remount=True).\n"
          ],
          "name": "stdout"
        }
      ]
    },
    {
      "cell_type": "code",
      "metadata": {
        "id": "6B0Mgm1hOGJf",
        "outputId": "27226f60-65aa-49eb-d6dc-9a0f1c2e2f88",
        "colab": {
          "base_uri": "https://localhost:8080/",
          "height": 447
        }
      },
      "source": [
        "!apt-get update\n",
        "!apt-get install openjdk-8-jdk-headless -qq > /dev/null\n",
        "!wget -q http://archive.apache.org/dist/spark/spark-2.3.1/spark-2.3.1-bin-hadoop2.7.tgz\n",
        "!tar xf spark-2.3.1-bin-hadoop2.7.tgz\n",
        "!pip install -q findspark\n",
        "import os\n",
        "os.environ[\"JAVA_HOME\"] = \"/usr/lib/jvm/java-8-openjdk-amd64\"\n",
        "os.environ[\"SPARK_HOME\"] = \"/content/spark-2.3.1-bin-hadoop2.7\"\n",
        "import findspark\n",
        "findspark.init()\n",
        "import pyspark\n",
        "from pyspark.sql import SparkSession\n",
        "spark = SparkSession.builder.getOrCreate() \n",
        "spark"
      ],
      "execution_count": 60,
      "outputs": [
        {
          "output_type": "stream",
          "text": [
            "Hit:1 https://cloud.r-project.org/bin/linux/ubuntu bionic-cran40/ InRelease\n",
            "Ign:2 https://developer.download.nvidia.com/compute/cuda/repos/ubuntu1804/x86_64  InRelease\n",
            "Ign:3 https://developer.download.nvidia.com/compute/machine-learning/repos/ubuntu1804/x86_64  InRelease\n",
            "Hit:4 https://developer.download.nvidia.com/compute/cuda/repos/ubuntu1804/x86_64  Release\n",
            "Hit:5 https://developer.download.nvidia.com/compute/machine-learning/repos/ubuntu1804/x86_64  Release\n",
            "Get:7 http://security.ubuntu.com/ubuntu bionic-security InRelease [88.7 kB]\n",
            "Hit:8 http://archive.ubuntu.com/ubuntu bionic InRelease\n",
            "Hit:9 http://ppa.launchpad.net/c2d4u.team/c2d4u4.0+/ubuntu bionic InRelease\n",
            "Get:11 http://archive.ubuntu.com/ubuntu bionic-updates InRelease [88.7 kB]\n",
            "Hit:12 http://ppa.launchpad.net/graphics-drivers/ppa/ubuntu bionic InRelease\n",
            "Get:13 http://archive.ubuntu.com/ubuntu bionic-backports InRelease [74.6 kB]\n",
            "Fetched 252 kB in 2s (115 kB/s)\n",
            "Reading package lists... Done\n"
          ],
          "name": "stdout"
        },
        {
          "output_type": "execute_result",
          "data": {
            "text/html": [
              "\n",
              "            <div>\n",
              "                <p><b>SparkSession - in-memory</b></p>\n",
              "                \n",
              "        <div>\n",
              "            <p><b>SparkContext</b></p>\n",
              "\n",
              "            <p><a href=\"http://27eb0999b653:4040\">Spark UI</a></p>\n",
              "\n",
              "            <dl>\n",
              "              <dt>Version</dt>\n",
              "                <dd><code>v2.3.1</code></dd>\n",
              "              <dt>Master</dt>\n",
              "                <dd><code>local[*]</code></dd>\n",
              "              <dt>AppName</dt>\n",
              "                <dd><code>pyspark-shell</code></dd>\n",
              "            </dl>\n",
              "        </div>\n",
              "        \n",
              "            </div>\n",
              "        "
            ],
            "text/plain": [
              "<pyspark.sql.session.SparkSession at 0x7fde5d32ba90>"
            ]
          },
          "metadata": {
            "tags": []
          },
          "execution_count": 60
        }
      ]
    },
    {
      "cell_type": "markdown",
      "metadata": {
        "id": "cpi73aRHPbmG"
      },
      "source": [
        "Mounting Google Drive"
      ]
    },
    {
      "cell_type": "code",
      "metadata": {
        "id": "57gdMmp2Wx7p"
      },
      "source": [
        "path = '/content/drive/My Drive/Siddhu/data/covidData.json'"
      ],
      "execution_count": 48,
      "outputs": []
    },
    {
      "cell_type": "code",
      "metadata": {
        "id": "OmLSc9x2b0KT"
      },
      "source": [
        "from pyspark.sql.types import ArrayType, StructField, StructType, StringType, IntegerType,DateType"
      ],
      "execution_count": 56,
      "outputs": []
    },
    {
      "cell_type": "code",
      "metadata": {
        "id": "Bkv7eCPtYCYD"
      },
      "source": [
        "schema = StructType([\n",
        "          StructField(\"agebracket\", StringType(), True),\n",
        "          StructField(\"backupnotes\", StringType(), True),\n",
        "          StructField(\"contractedfromwhichpatientsuspected\", StringType(), True),\n",
        "          StructField(\"currentstatus\", StringType(), True),\n",
        "          StructField(\"dateannounced\", DateType(), True),\n",
        "          StructField(\"detectedcity\", StringType(), True),\n",
        "          StructField(\"detecteddistrict\", StringType(), True),\n",
        "          StructField(\"detectedstate\", StringType(), True),\n",
        "          StructField(\"estimatedonsetdate\", StringType(), True),\n",
        "          StructField(\"gender\", StringType(), True),\n",
        "          StructField(\"nationality\", StringType(), True),\n",
        "          StructField(\"notes\", StringType(), True),\n",
        "          StructField(\"numcases\", StringType(), True),\n",
        "          StructField(\"patientnumber\", StringType(), True),\n",
        "          StructField(\"source1\", StringType(), True),\n",
        "          StructField(\"source2\", StringType(), True),\n",
        "          StructField(\"source3\", StringType(), True),\n",
        "          StructField(\"statecode\", StringType(), True),\n",
        "          StructField(\"statepatientnumber\", StringType(), True),\n",
        "          StructField(\"statuschangedate\", DateType(), True),\n",
        "          StructField(\"typeoftransmission\", StringType(), True)\n",
        "])"
      ],
      "execution_count": 57,
      "outputs": []
    },
    {
      "cell_type": "code",
      "metadata": {
        "id": "yr5GcC-2ckKi"
      },
      "source": [
        "covidDF = spark.read.option(\"dateFormat\", \"dd/MM/yyyy\").json(path, schema)"
      ],
      "execution_count": 58,
      "outputs": []
    },
    {
      "cell_type": "code",
      "metadata": {
        "id": "tD0rShy7cyGq",
        "outputId": "a880f99f-70ec-4ae4-841d-21d21378f848",
        "colab": {
          "base_uri": "https://localhost:8080/",
          "height": 498
        }
      },
      "source": [
        "covidDF.show()"
      ],
      "execution_count": 59,
      "outputs": [
        {
          "output_type": "stream",
          "text": [
            "+----------+--------------------+-----------------------------------+-------------+-------------+--------------------+----------------+-------------+------------------+------+-----------+--------------------+--------+-------------+--------------------+--------------------+--------------------+---------+------------------+----------------+------------------+\n",
            "|agebracket|         backupnotes|contractedfromwhichpatientsuspected|currentstatus|dateannounced|        detectedcity|detecteddistrict|detectedstate|estimatedonsetdate|gender|nationality|               notes|numcases|patientnumber|             source1|             source2|             source3|statecode|statepatientnumber|statuschangedate|typeoftransmission|\n",
            "+----------+--------------------+-----------------------------------+-------------+-------------+--------------------+----------------+-------------+------------------+------+-----------+--------------------+--------+-------------+--------------------+--------------------+--------------------+---------+------------------+----------------+------------------+\n",
            "|        20|  Student from Wuhan|                                   |    Recovered|   2020-01-30|            Thrissur|        Thrissur|       Kerala|                  |     F|      India|Travelled from Wuhan|       1|            1|https://twitter.c...|https://weather.c...|                    |       KL|          KL-TS-P1|      2020-02-14|          Imported|\n",
            "|          |  Student from Wuhan|                                   |    Recovered|   2020-02-02|           Alappuzha|       Alappuzha|       Kerala|                  |      |      India|Travelled from Wuhan|       1|            2|https://www.india...|https://weather.c...|                    |       KL|          KL-AL-P1|      2020-02-14|          Imported|\n",
            "|          |  Student from Wuhan|                                   |    Recovered|   2020-02-03|           Kasaragod|       Kasaragod|       Kerala|                  |      |      India|Travelled from Wuhan|       1|            3|https://www.india...|https://twitter.c...|https://weather.c...|       KL|          KL-KS-P1|      2020-02-14|          Imported|\n",
            "|        45|Travel history to...|                                   |    Recovered|   2020-03-02|East Delhi (Mayur...|      East Delhi|        Delhi|                  |     M|      India|Travelled from Au...|       1|            4|https://www.india...|https://economict...|                    |       DL|             DL-P1|      2020-03-15|          Imported|\n",
            "|        24|Travel history to...|                                   |    Recovered|   2020-03-02|           Hyderabad|       Hyderabad|    Telangana|                  |     M|      India|Travelled from Du...|       1|            5|https://www.decca...|https://www.india...|https://www.thehi...|       TG|             TS-P1|      2020-03-02|          Imported|\n",
            "|        69|     Italian tourist|                                   |    Recovered|   2020-03-03|              Jaipur|        Italians|    Rajasthan|                  |     M|      Italy|Travelled from Italy|       1|            6|https://indianexp...|https://economict...|https://twitter.c...|       RJ|                  |      2020-03-03|          Imported|\n",
            "|        55|     Italian tourist|                                 P6|    Recovered|   2020-03-04|            Gurugram|        Italians|      Haryana|                  |      |      Italy|Travelled from Italy|       1|            7|https://indianexp...|https://www.india...|                    |       HR|                  |      2020-03-29|          Imported|\n",
            "|        55|     Italian tourist|                                 P6|    Recovered|   2020-03-04|            Gurugram|        Italians|      Haryana|                  |      |      Italy|Travelled from Italy|       1|            8|https://indianexp...|https://www.india...|                    |       HR|                  |      2020-03-29|          Imported|\n",
            "|        55|     Italian tourist|                                 P6|    Recovered|   2020-03-04|            Gurugram|        Italians|      Haryana|                  |      |      Italy|Travelled from Italy|       1|            9|https://indianexp...|https://www.india...|                    |       HR|                  |      2020-03-29|          Imported|\n",
            "|        55|     Italian tourist|                                 P6|    Recovered|   2020-03-04|            Gurugram|        Italians|      Haryana|                  |      |      Italy|Travelled from Italy|       1|           10|https://indianexp...|https://www.india...|                    |       HR|                  |      2020-03-29|          Imported|\n",
            "|        55|     Italian tourist|                                 P6|    Recovered|   2020-03-04|            Gurugram|        Italians|      Haryana|                  |      |      Italy|Travelled from Italy|       1|           11|https://indianexp...|https://www.india...|                    |       HR|                  |      2020-03-29|          Imported|\n",
            "|        55|     Italian tourist|                                 P6|    Recovered|   2020-03-04|            Gurugram|        Italians|      Haryana|                  |      |      Italy|Travelled from Italy|       1|           12|https://indianexp...|https://www.india...|                    |       HR|                  |      2020-03-29|          Imported|\n",
            "|        55|     Italian tourist|                                 P6|    Recovered|   2020-03-04|            Gurugram|        Italians|      Haryana|                  |      |      Italy|Travelled from Italy|       1|           13|https://indianexp...|https://www.india...|                    |       HR|                  |      2020-03-29|          Imported|\n",
            "|        55|     Italian tourist|                                 P6|    Recovered|   2020-03-04|            Gurugram|        Italians|      Haryana|                  |      |      Italy|Travelled from Italy|       1|           14|https://indianexp...|https://www.india...|                    |       HR|                  |      2020-03-29|          Imported|\n",
            "|        55|     Italian tourist|                                 P6|    Recovered|   2020-03-04|            Gurugram|        Italians|      Haryana|                  |      |      Italy|Travelled from Italy|       1|           15|https://indianexp...|https://www.india...|                    |       HR|                  |      2020-03-29|          Imported|\n",
            "|        55|     Italian tourist|                                 P6|    Recovered|   2020-03-04|            Gurugram|        Italians|      Haryana|                  |      |      Italy|Travelled from Italy|       1|           16|https://indianexp...|https://www.india...|                    |       HR|                  |      2020-03-29|          Imported|\n",
            "|        55|     Italian tourist|                                 P6|    Recovered|   2020-03-04|            Gurugram|        Italians|      Haryana|                  |      |      Italy|Travelled from Italy|       1|           17|https://indianexp...|https://www.india...|                    |       HR|                  |      2020-03-29|          Imported|\n",
            "|        55|     Italian tourist|                                 P6|    Recovered|   2020-03-04|            Gurugram|        Italians|      Haryana|                  |      |      Italy|Travelled from Italy|       1|           18|https://indianexp...|https://www.india...|                    |       HR|                  |      2020-03-29|          Imported|\n",
            "|        55|     Italian tourist|                                 P6| Hospitalized|   2020-03-04|            Gurugram|        Italians|      Haryana|                  |      |      Italy|Travelled from Italy|       1|           19|https://indianexp...|https://www.india...|                    |       HR|                  |      2020-03-04|          Imported|\n",
            "|        55|     Italian tourist|                                 P6| Hospitalized|   2020-03-04|            Gurugram|        Italians|      Haryana|                  |      |      Italy|Travelled from Italy|       1|           20|https://indianexp...|https://www.india...|                    |       HR|                  |      2020-03-04|          Imported|\n",
            "+----------+--------------------+-----------------------------------+-------------+-------------+--------------------+----------------+-------------+------------------+------+-----------+--------------------+--------+-------------+--------------------+--------------------+--------------------+---------+------------------+----------------+------------------+\n",
            "only showing top 20 rows\n",
            "\n"
          ],
          "name": "stdout"
        }
      ]
    },
    {
      "cell_type": "code",
      "metadata": {
        "id": "D7lpr1X9cza3"
      },
      "source": [
        ""
      ],
      "execution_count": null,
      "outputs": []
    }
  ]
}